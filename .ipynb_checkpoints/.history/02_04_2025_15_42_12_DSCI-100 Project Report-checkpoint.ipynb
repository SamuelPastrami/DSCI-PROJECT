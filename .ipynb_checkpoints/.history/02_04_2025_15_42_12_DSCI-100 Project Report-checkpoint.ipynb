{
 "cells": [
  {
   "cell_type": "markdown",
   "id": "8b23ccfa-f179-4007-a41c-4fdb085fcddb",
   "metadata": {},
   "source": [
    "# DSCI-100 Project Report"
   ]
  },
  {
   "cell_type": "markdown",
   "id": "f49200cf-569a-4ec9-83fc-2c01d03d9aba",
   "metadata": {},
   "source": [
    "# Project Title"
   ]
  },
  {
   "cell_type": "code",
   "execution_count": null,
   "id": "7667dd8a-3145-4f67-a856-7e32aac050f8",
   "metadata": {},
   "outputs": [],
   "source": []
  },
  {
   "cell_type": "code",
   "execution_count": null,
   "id": "1626c188-bf8f-46c5-8085-6b6eb096a28b",
   "metadata": {},
   "outputs": [],
   "source": [
    "### Run this cell to load packages\n",
    "library(tidyverse)\n",
    "library(repr)"
   ]
  },
  {
   "cell_type": "code",
   "execution_count": null,
   "id": "17baa23f-51a5-410e-a189-3eb3e9538a90",
   "metadata": {},
   "outputs": [],
   "source": [
    "#run this cell to load in the players and sessions datasets\n",
    "players  <- read_csv(\"https://raw.githubusercontent.com/SamuelPastrami/DSCI-PROJECT/refs/heads/main/Data/players.csv\")\n",
    "sessions <- read_csv(\"https://raw.githubusercontent.com/SamuelPastrami/DSCI-PROJECT/refs/heads/main/Data/sessions.csv\")"
   ]
  },
  {
   "cell_type": "code",
   "execution_count": null,
   "id": "dfe5eaff-a687-4a33-9b8e-efadae095a9f",
   "metadata": {},
   "outputs": [],
   "source": []
  }
 ],
 "metadata": {
  "kernelspec": {
   "display_name": "R",
   "language": "R",
   "name": "ir"
  },
  "language_info": {
   "codemirror_mode": "r",
   "file_extension": ".r",
   "mimetype": "text/x-r-source",
   "name": "R",
   "pygments_lexer": "r",
   "version": "4.3.3"
  }
 },
 "nbformat": 4,
 "nbformat_minor": 5
}
