{
 "cells": [
  {
   "cell_type": "markdown",
   "id": "8b23ccfa-f179-4007-a41c-4fdb085fcddb",
   "metadata": {},
   "source": [
    "## DSCI-100 Project Report"
   ]
  },
  {
   "cell_type": "code",
   "execution_count": null,
   "id": "17baa23f-51a5-410e-a189-3eb3e9538a90",
   "metadata": {},
   "outputs": [],
   "source": []
  }
 ],
 "metadata": {
  "kernelspec": {
   "display_name": "R",
   "language": "R",
   "name": "ir"
  },
  "language_info": {
   "codemirror_mode": "r",
   "file_extension": ".r",
   "mimetype": "text/x-r-source",
   "name": "R",
   "pygments_lexer": "r",
   "version": "4.3.3"
  }
 },
 "nbformat": 4,
 "nbformat_minor": 5
}
